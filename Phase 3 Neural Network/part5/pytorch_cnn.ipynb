{
 "cells": [
  {
   "cell_type": "code",
   "execution_count": 1,
   "id": "8d3c0556-3f66-4d07-8472-b5bf4c89ce7c",
   "metadata": {},
   "outputs": [],
   "source": [
    "import torch\n",
    "import torch.nn as nn\n",
    "import torch.optim as optim\n",
    "import torch.nn.functional as F\n",
    "from torchvision import datasets, transforms\n",
    "from torch.utils.data import DataLoader"
   ]
  },
  {
   "cell_type": "code",
   "execution_count": 2,
   "id": "71762641-6f6e-4c70-8cd8-c6fa85ec6048",
   "metadata": {},
   "outputs": [
    {
     "name": "stdout",
     "output_type": "stream",
     "text": [
      "Downloading https://www.cs.toronto.edu/~kriz/cifar-10-python.tar.gz to ./data\\cifar-10-python.tar.gz\n"
     ]
    },
    {
     "name": "stderr",
     "output_type": "stream",
     "text": [
      "100%|███████████████████████████████████████████████████████████████████████████████| 170M/170M [02:31<00:00, 1.13MB/s]\n"
     ]
    },
    {
     "name": "stdout",
     "output_type": "stream",
     "text": [
      "Extracting ./data\\cifar-10-python.tar.gz to ./data\n",
      "Files already downloaded and verified\n",
      "['airplane', 'automobile', 'bird', 'cat', 'deer', 'dog', 'frog', 'horse', 'ship', 'truck']\n"
     ]
    }
   ],
   "source": [
    "device = torch.device('cuda' if torch.cuda.is_available() else 'cpu')\n",
    "\n",
    "num_epochs = 20\n",
    "batch_size = 128\n",
    "learning_rate = 0.01\n",
    "\n",
    "transform = transforms.Compose([\n",
    "    transforms.ToTensor(),\n",
    "    transforms.Normalize((0.4914, 0.4822, 0.4465), (0.247, 0.243, 0.261))\n",
    "])\n",
    "\n",
    "train_dataset = datasets.CIFAR10(root='./data', train=True, download=True, transform=transform)\n",
    "test_dataset = datasets.CIFAR10(root='./data', train=False, download=True, transform=transform)\n",
    "print(train_dataset.classes)\n",
    "\n",
    "train_loader = DataLoader(dataset=train_dataset, batch_size=batch_size, shuffle=True, num_workers=4)\n",
    "test_loader = DataLoader(dataset=test_dataset, batch_size=batch_size, shuffle=False, num_workers=4)"
   ]
  },
  {
   "cell_type": "code",
   "execution_count": 3,
   "id": "f41f7952-a7ff-4ff4-bb47-94ac572be763",
   "metadata": {},
   "outputs": [],
   "source": [
    "class SimpleCNN(nn.Module):\n",
    "    def __init__(self):\n",
    "        super(SimpleCNN, self).__init__()\n",
    "        self.conv1 = nn.Conv2d(3, 32, kernel_size=3, padding=1)\n",
    "        self.pool1 = nn.MaxPool2d(kernel_size=2, stride=2)\n",
    "        self.conv2 = nn.Conv2d(32, 64, kernel_size=3, padding=1)\n",
    "        self.pool2 = nn.MaxPool2d(kernel_size=2, stride=2)\n",
    "        self.fc1 = nn.Linear(64 * 8 * 8, 128)\n",
    "        self.fc2 = nn.Linear(128, 10)\n",
    "\n",
    "    def forward(self, x):\n",
    "        x = F.relu(self.conv1(x))\n",
    "        x = self.pool1(x)\n",
    "        x = F.relu(self.conv2(x))\n",
    "        x = self.pool2(x)\n",
    "        x = x.view(x.size(0), -1)\n",
    "        x = F.relu(self.fc1(x))\n",
    "        x = self.fc2(x)\n",
    "        return x"
   ]
  },
  {
   "cell_type": "code",
   "execution_count": 4,
   "id": "c1efddce-be74-4914-9a91-7b3eb5b6693d",
   "metadata": {},
   "outputs": [
    {
     "name": "stdout",
     "output_type": "stream",
     "text": [
      "Epoch [1/20], Step [100/391], Loss: 2.0011\n",
      "Epoch [1/20], Step [200/391], Loss: 1.5408\n",
      "Epoch [1/20], Step [300/391], Loss: 1.3767\n",
      "Epoch [2/20], Step [100/391], Loss: 1.1815\n",
      "Epoch [2/20], Step [200/391], Loss: 1.1237\n",
      "Epoch [2/20], Step [300/391], Loss: 1.0921\n",
      "Epoch [3/20], Step [100/391], Loss: 0.9358\n",
      "Epoch [3/20], Step [200/391], Loss: 0.9446\n",
      "Epoch [3/20], Step [300/391], Loss: 0.9181\n",
      "Epoch [4/20], Step [100/391], Loss: 0.8037\n",
      "Epoch [4/20], Step [200/391], Loss: 0.8069\n",
      "Epoch [4/20], Step [300/391], Loss: 0.8112\n",
      "Epoch [5/20], Step [100/391], Loss: 0.7053\n",
      "Epoch [5/20], Step [200/391], Loss: 0.6876\n",
      "Epoch [5/20], Step [300/391], Loss: 0.6976\n",
      "Epoch [6/20], Step [100/391], Loss: 0.5643\n",
      "Epoch [6/20], Step [200/391], Loss: 0.5989\n",
      "Epoch [6/20], Step [300/391], Loss: 0.5968\n",
      "Epoch [7/20], Step [100/391], Loss: 0.4900\n",
      "Epoch [7/20], Step [200/391], Loss: 0.4903\n",
      "Epoch [7/20], Step [300/391], Loss: 0.5118\n",
      "Epoch [8/20], Step [100/391], Loss: 0.3825\n",
      "Epoch [8/20], Step [200/391], Loss: 0.3993\n",
      "Epoch [8/20], Step [300/391], Loss: 0.4168\n",
      "Epoch [9/20], Step [100/391], Loss: 0.3058\n",
      "Epoch [9/20], Step [200/391], Loss: 0.3103\n",
      "Epoch [9/20], Step [300/391], Loss: 0.3418\n",
      "Epoch [10/20], Step [100/391], Loss: 0.2230\n",
      "Epoch [10/20], Step [200/391], Loss: 0.2474\n",
      "Epoch [10/20], Step [300/391], Loss: 0.2644\n",
      "Epoch [11/20], Step [100/391], Loss: 0.1580\n",
      "Epoch [11/20], Step [200/391], Loss: 0.1743\n",
      "Epoch [11/20], Step [300/391], Loss: 0.2007\n",
      "Epoch [12/20], Step [100/391], Loss: 0.1147\n",
      "Epoch [12/20], Step [200/391], Loss: 0.1244\n",
      "Epoch [12/20], Step [300/391], Loss: 0.1470\n",
      "Epoch [13/20], Step [100/391], Loss: 0.0882\n",
      "Epoch [13/20], Step [200/391], Loss: 0.1021\n",
      "Epoch [13/20], Step [300/391], Loss: 0.1145\n",
      "Epoch [14/20], Step [100/391], Loss: 0.0667\n",
      "Epoch [14/20], Step [200/391], Loss: 0.0645\n",
      "Epoch [14/20], Step [300/391], Loss: 0.0808\n",
      "Epoch [15/20], Step [100/391], Loss: 0.0635\n",
      "Epoch [15/20], Step [200/391], Loss: 0.0525\n",
      "Epoch [15/20], Step [300/391], Loss: 0.0564\n",
      "Epoch [16/20], Step [100/391], Loss: 0.0495\n",
      "Epoch [16/20], Step [200/391], Loss: 0.0364\n",
      "Epoch [16/20], Step [300/391], Loss: 0.0493\n",
      "Epoch [17/20], Step [100/391], Loss: 0.0328\n",
      "Epoch [17/20], Step [200/391], Loss: 0.0294\n",
      "Epoch [17/20], Step [300/391], Loss: 0.0354\n",
      "Epoch [18/20], Step [100/391], Loss: 0.0307\n",
      "Epoch [18/20], Step [200/391], Loss: 0.0379\n",
      "Epoch [18/20], Step [300/391], Loss: 0.0432\n",
      "Epoch [19/20], Step [100/391], Loss: 0.0354\n",
      "Epoch [19/20], Step [200/391], Loss: 0.0311\n",
      "Epoch [19/20], Step [300/391], Loss: 0.0421\n",
      "Epoch [20/20], Step [100/391], Loss: 0.0224\n",
      "Epoch [20/20], Step [200/391], Loss: 0.0204\n",
      "Epoch [20/20], Step [300/391], Loss: 0.0300\n",
      "Test Accuracy of the model on the 10000 test images: 72.96%\n"
     ]
    }
   ],
   "source": [
    "if __name__ == \"__main__\":\n",
    "    model = SimpleCNN().to(device)\n",
    "\n",
    "    criterion = nn.CrossEntropyLoss()\n",
    "    optimizer = optim.SGD(model.parameters(), lr=learning_rate, momentum=0.9)\n",
    "\n",
    "    for epoch in range(num_epochs):\n",
    "        model.train()\n",
    "        running_loss = 0.0\n",
    "        for i, (images, labels) in enumerate(train_loader):\n",
    "            images = images.to(device)\n",
    "            labels = labels.to(device)\n",
    "\n",
    "            outputs = model(images)\n",
    "            loss = criterion(outputs, labels)\n",
    "\n",
    "            optimizer.zero_grad()\n",
    "            loss.backward()\n",
    "            optimizer.step()\n",
    "\n",
    "            running_loss += loss.item()\n",
    "            if (i + 1) % 100 == 0:\n",
    "                print(f'Epoch [{epoch+1}/{num_epochs}], Step [{i+1}/{len(train_loader)}], Loss: {running_loss / 100:.4f}')\n",
    "                running_loss = 0.0\n",
    "\n",
    "    model.eval()\n",
    "    correct = 0\n",
    "    total = 0\n",
    "    with torch.no_grad():\n",
    "        for images, labels in test_loader:\n",
    "            images = images.to(device)\n",
    "            labels = labels.to(device)\n",
    "            outputs = model(images)\n",
    "            _, predicted = torch.max(outputs.data, 1)\n",
    "            total += labels.size(0)\n",
    "            correct += (predicted == labels).sum().item()\n",
    "\n",
    "    print(f'Test Accuracy of the model on the 10000 test images: {100 * correct / total:.2f}%')\n",
    "\n",
    "    torch.save(model.state_dict(), 'simple_cnn_cifar10.pth')"
   ]
  }
 ],
 "metadata": {
  "kernelspec": {
   "display_name": "Python (quera)",
   "language": "python",
   "name": "quera"
  },
  "language_info": {
   "codemirror_mode": {
    "name": "ipython",
    "version": 3
   },
   "file_extension": ".py",
   "mimetype": "text/x-python",
   "name": "python",
   "nbconvert_exporter": "python",
   "pygments_lexer": "ipython3",
   "version": "3.11.11"
  }
 },
 "nbformat": 4,
 "nbformat_minor": 5
}
