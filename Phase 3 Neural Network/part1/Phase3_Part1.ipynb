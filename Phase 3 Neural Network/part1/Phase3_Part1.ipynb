{
 "cells": [
  {
   "cell_type": "code",
   "id": "initial_id",
   "metadata": {
    "collapsed": true,
    "ExecuteTime": {
     "end_time": "2025-05-30T15:58:33.965640Z",
     "start_time": "2025-05-30T15:58:27.758945Z"
    }
   },
   "source": [
    "# Cell 1: Imports and Setup\n",
    "\n",
    "import numpy as np\n",
    "import matplotlib.pyplot as plt\n",
    "from sklearn.metrics import confusion_matrix, f1_score, classification_report\n",
    "from torchvision.datasets import CIFAR10 # For dataset loading\n",
    "import torchvision.transforms as T # Used only for download=True, manual transformation is done\n",
    "\n",
    "# Set a random seed for reproducibility\n",
    "np.random.seed(42)"
   ],
   "outputs": [],
   "execution_count": 1
  },
  {
   "metadata": {
    "ExecuteTime": {
     "end_time": "2025-05-30T15:58:33.982809Z",
     "start_time": "2025-05-30T15:58:33.973908Z"
    }
   },
   "cell_type": "code",
   "source": [
    "# Cell 2: Activation and Loss Functions\n",
    "\n",
    "def sigmoid(z):\n",
    "    return 1 / (1 + np.exp(-z))\n",
    "\n",
    "def binary_cross_entropy_loss(y_true, y_pred):\n",
    "    epsilon = 1e-10 # Clip predictions to avoid log(0)\n",
    "    y_pred = np.clip(y_pred, epsilon, 1 - epsilon)\n",
    "    return -np.mean(y_true * np.log(y_pred) + (1 - y_true) * np.log(1 - y_pred))"
   ],
   "id": "2895a07ad9e180a4",
   "outputs": [],
   "execution_count": 2
  },
  {
   "metadata": {
    "ExecuteTime": {
     "end_time": "2025-05-30T15:58:34.146051Z",
     "start_time": "2025-05-30T15:58:34.134533Z"
    }
   },
   "cell_type": "code",
   "source": [
    "# Cell 3: Logistic Regression Model Class\n",
    "\n",
    "class LogisticRegression:\n",
    "    def __init__(self, input_dim, lr=0.01):\n",
    "        \"\"\"\n",
    "        Initializes the Logistic Regression model.\n",
    "        \"\"\"\n",
    "        self.input_dim = input_dim\n",
    "        self.lr = lr\n",
    "        \n",
    "        # Initialize weights (W) with small random values and bias (b) with zeros\n",
    "        self.W = np.random.randn(input_dim, 1) * 0.01\n",
    "        self.b = np.zeros((1, 1))\n",
    "        \n",
    "        # History to store for plotting\n",
    "        self.history = {'train_loss': [], 'train_acc': []}\n",
    "        print(f\"LogisticRegression model initialized with input_dim={input_dim}, lr={lr}\")\n",
    "\n",
    "    def predict_probabilities(self, X):\n",
    "        \"\"\"\n",
    "        Calculates the output probabilities of the model.\n",
    "        \"\"\"\n",
    "        z = X @ self.W + self.b\n",
    "        a = sigmoid(z)\n",
    "        return a\n",
    "\n",
    "    def compute_gradients(self, X, y_true, y_pred):\n",
    "        \"\"\"\n",
    "        Computes the gradients for weights and bias.\n",
    "        \"\"\"\n",
    "        m = X.shape[0] # Number of samples in the current batch\n",
    "        \n",
    "        # Gradient of loss w.r.t Z (output of linear layer before sigmoid)\n",
    "        dz = y_pred - y_true.reshape(-1, 1)\n",
    "        \n",
    "        dW = (X.T @ dz) / m\n",
    "        db = np.sum(dz, axis=0, keepdims=True) / m\n",
    "        return dW, db\n",
    "\n",
    "    def update_params(self, dW, db):\n",
    "        \"\"\"\n",
    "        Updates model parameters (weights and bias) using calculated gradients.\n",
    "        \"\"\"\n",
    "        self.W -= self.lr * dW\n",
    "        self.b -= self.lr * db\n",
    "\n",
    "    def train(self, train_loader, epochs=100, print_freq=10):\n",
    "        \"\"\"\n",
    "        Trains the logistic regression model.\n",
    "        \"\"\"\n",
    "        print(f\"\\n--- Starting Training for Logistic Regression ---\")\n",
    "        for epoch in range(epochs):\n",
    "            all_batch_loss = []\n",
    "            all_batch_accuracy = []\n",
    "            \n",
    "            # Iterate over mini-batches\n",
    "            for x_batch, y_batch in train_loader:\n",
    "                y_batch = y_batch.reshape(-1) \n",
    "                # Calculate output probabilities\n",
    "                y_pred = self.predict_probabilities(x_batch)\n",
    "                \n",
    "                # Calculate loss\n",
    "                loss = binary_cross_entropy_loss(y_batch, y_pred)\n",
    "                \n",
    "                # Calculate gradients\n",
    "                dW, db = self.compute_gradients(x_batch, y_batch, y_pred)\n",
    "                \n",
    "                # Update parameters\n",
    "                self.update_params(dW, db)\n",
    "                \n",
    "                # Calculate accuracy for the current batch\n",
    "                predictions = (y_pred >= 0.5).astype(int).flatten()\n",
    "                accuracy = np.mean(predictions == y_batch)\n",
    "                \n",
    "                all_batch_loss.append(loss)\n",
    "                all_batch_accuracy.append(accuracy)\n",
    "\n",
    "            # Average loss and accuracy for the epoch\n",
    "            avg_epoch_loss = np.mean(all_batch_loss)\n",
    "            avg_epoch_accuracy = np.mean(all_batch_accuracy)\n",
    "            \n",
    "            self.history['train_loss'].append(avg_epoch_loss)\n",
    "            self.history['train_acc'].append(avg_epoch_accuracy)\n",
    "\n",
    "            if (epoch + 1) % print_freq == 0:\n",
    "                print(f\"Epoch {epoch+1}/{epochs} - Loss: {avg_epoch_loss:.4f} - Acc: {avg_epoch_accuracy:.4f}\")\n",
    "        print(f\"--- Training Finished ---\")\n",
    "\n",
    "    def predict(self, X):\n",
    "        \"\"\"\n",
    "        Makes binary predictions based on the learned model.\n",
    "        \"\"\"\n",
    "        return (self.predict_probabilities(X) >= 0.5).astype(int).flatten()"
   ],
   "id": "bea6ce9b84b26e33",
   "outputs": [],
   "execution_count": 3
  },
  {
   "metadata": {
    "ExecuteTime": {
     "end_time": "2025-05-30T15:58:34.166214Z",
     "start_time": "2025-05-30T15:58:34.155018Z"
    }
   },
   "cell_type": "code",
   "source": [
    "# Cell 4: Data Loading and Preprocessing\n",
    "\n",
    "def load_and_prepare_cifar10(positive_class=0, data_dir='./data'):\n",
    "    \"\"\"\n",
    "    Loads CIFAR-10 data, normalizes, relabels for binary classification, and flattens images.\n",
    "    \"\"\"\n",
    "    # T.ToTensor() is primarily for PyTorch tensors; we're extracting raw data and handling normalization manually.\n",
    "    transform = T.ToTensor() \n",
    "\n",
    "    train_set = CIFAR10(root=data_dir, train=True, download=True, transform=transform)\n",
    "    test_set = CIFAR10(root=data_dir, train=False, download=True, transform=transform)\n",
    "\n",
    "    # Convert to NumPy arrays and normalize pixel values to [0, 1]\n",
    "    x_train = train_set.data.astype(np.float32) / 255.0\n",
    "    y_train = np.array(train_set.targets).flatten()\n",
    "    # Relabeling: positive_class=1, others=0\n",
    "    y_train_bin = (y_train == positive_class).astype(int) \n",
    "\n",
    "    x_test = test_set.data.astype(np.float32) / 255.0\n",
    "    y_test = np.array(test_set.targets).flatten()\n",
    "    # Relabeling: positive_class=1, others=0\n",
    "    y_test_bin = (y_test == positive_class).astype(int) \n",
    "    ###############3\n",
    "    \n",
    "    mean_image = x_train.mean(axis=0, keepdims=True)    # shape: (1,32,32,3)\n",
    "    x_train -= mean_image\n",
    "    x_test  -= mean_image\n",
    "    \n",
    "    ####################\n",
    "    \n",
    "    \n",
    "    # Flatten images from (N, H, W, C) to (N, H*W*C)\n",
    "    x_train_flat = x_train.reshape(x_train.shape[0], -1) # (50000, 32*32*3) = (50000, 3072)\n",
    "    x_test_flat = x_test.reshape(x_test.shape[0], -1)   # (10000, 32*32*3) = (10000, 3072)\n",
    "\n",
    "    return x_train_flat, y_train_bin, x_test_flat, y_test_bin"
   ],
   "id": "e382d51152d08b2",
   "outputs": [],
   "execution_count": 4
  },
  {
   "metadata": {
    "ExecuteTime": {
     "end_time": "2025-05-30T15:58:34.209973Z",
     "start_time": "2025-05-30T15:58:34.196702Z"
    }
   },
   "cell_type": "code",
   "source": [
    "# Cell 5: Simple DataLoader for Mini-Batching\n",
    "\n",
    "class SimpleLoader:\n",
    "    def __init__(self, X, y, batch_size=128, shuffle=True):\n",
    "        \"\"\"\n",
    "        A simple DataLoader for batching and shuffling data using NumPy arrays.\n",
    "        Args:\n",
    "            X (np.array): Features data.\n",
    "            y (np.array): Labels data.\n",
    "            batch_size (int): Size of each mini-batch.\n",
    "            shuffle (bool): Whether to shuffle data at the beginning of each epoch.\n",
    "        \"\"\"\n",
    "        self.X = X\n",
    "        self.y = y\n",
    "        self.batch_size = batch_size\n",
    "        self.shuffle = shuffle\n",
    "        self.num_samples = len(X)\n",
    "\n",
    "    def __iter__(self):\n",
    "        \"\"\"\n",
    "        Returns an iterator for mini-batches.\n",
    "        \"\"\"\n",
    "        indices = np.arange(self.num_samples)\n",
    "        if self.shuffle:\n",
    "            np.random.shuffle(indices) # Shuffle indices for each epoch\n",
    "\n",
    "        for start_idx in range(0, self.num_samples, self.batch_size):\n",
    "            end_idx = min(start_idx + self.batch_size, self.num_samples)\n",
    "            batch_idx = indices[start_idx:end_idx]\n",
    "            \n",
    "            # Directly yield NumPy arrays\n",
    "            yield self.X[batch_idx], self.y[batch_idx]"
   ],
   "id": "ccfe971d721ec1e5",
   "outputs": [],
   "execution_count": 5
  },
  {
   "metadata": {
    "ExecuteTime": {
     "end_time": "2025-05-30T15:58:34.226450Z",
     "start_time": "2025-05-30T15:58:34.209973Z"
    }
   },
   "cell_type": "code",
   "source": [
    "# # Cell 6: Main Execution - Data Loading and Model Training\n",
    "# \n",
    "# # Load and prepare the data (airplane as positive class)\n",
    "# x_train, y_train, x_test, y_test = load_and_prepare_cifar10(positive_class=0, data_dir='./data')\n",
    "# \n",
    "# print(f\"X_train shape: {x_train.shape}\")\n",
    "# print(f\"y_train shape: {y_train.shape}\")\n",
    "# print(f\"X_test shape: {x_test.shape}\")\n",
    "# print(f\"y_test shape: {y_test.shape}\")\n",
    "# \n",
    "# # Initialize and train the Logistic Regression model\n",
    "# input_dim = x_train.shape[1]\n",
    "# model = LogisticRegression(input_dim=input_dim, lr=0.0001) # Slightly lower LR for stability\n",
    "# \n",
    "# # Create DataLoader for training (with mini-batching)\n",
    "# train_loader = SimpleLoader(x_train, y_train, batch_size=512, shuffle=True)\n",
    "# \n",
    "# # Train the model\n",
    "# model.train(train_loader, epochs=25, print_freq=5)"
   ],
   "id": "dbd72d28f60279d2",
   "outputs": [],
   "execution_count": 6
  },
  {
   "metadata": {
    "ExecuteTime": {
     "end_time": "2025-05-30T15:58:39.788496Z",
     "start_time": "2025-05-30T15:58:34.242942Z"
    }
   },
   "cell_type": "code",
   "source": [
    "# Cell 6: Main Execution - Data Loading and Model Training\n",
    "\n",
    "# 1) Load and prepare the data (airplane as positive class)\n",
    "x_train, y_train, x_test, y_test = load_and_prepare_cifar10(positive_class=0, data_dir='./data')\n",
    "\n",
    "print(f\"X_train shape: {x_train.shape}\")\n",
    "print(f\"y_train shape: {y_train.shape}\")\n",
    "print(f\"X_test shape: {x_test.shape}\")\n",
    "print(f\"y_test shape: {y_test.shape}\")\n",
    "\n",
    "# ----- INSERT BALANCING BLOCK HERE -----\n",
    "import numpy as np\n",
    "# اندیس‌های کلاس مثبت (هواپیما) و منفی (سایر)\n",
    "pos_idx = np.where(y_train == 1)[0]\n",
    "neg_idx = np.where(y_train == 0)[0]\n",
    "# زیرنمونه‌برداری تصادفی از کلاس اکثریت\n",
    "np.random.shuffle(neg_idx)\n",
    "neg_idx = neg_idx[: len(pos_idx)]\n",
    "# ترکیب و shuffle نهایی\n",
    "balanced_idx = np.concatenate([pos_idx, neg_idx])\n",
    "np.random.shuffle(balanced_idx)\n",
    "# داده‌های متعادل\n",
    "x_train = x_train[balanced_idx]\n",
    "y_train = y_train[balanced_idx]\n",
    "# ---------------------------------------\n",
    "print(\"After balancing:\", x_train.shape, y_train.shape)\n",
    "# 2) Initialize the Logistic Regression model\n",
    "input_dim = x_train.shape[1]                    # ← این خط حفظ شده\n",
    "model = LogisticRegression(input_dim=input_dim, lr=0.0005)\n",
    "\n",
    "# 3) Create DataLoader for training (with mini-batching)\n",
    "train_loader = SimpleLoader(x_train, y_train, batch_size=512, shuffle=True)\n",
    "\n",
    "# 4) Train the model  ←  **اینجا تعداد epochs را افزایش دهید**\n",
    "model.train(train_loader, epochs=10, print_freq=1)  # ← به جای 25 از 100 استفاده کنید"
   ],
   "id": "41ff8a3a7efc8286",
   "outputs": [
    {
     "name": "stdout",
     "output_type": "stream",
     "text": [
      "X_train shape: (50000, 3072)\n",
      "y_train shape: (50000,)\n",
      "X_test shape: (10000, 3072)\n",
      "y_test shape: (10000,)\n",
      "After balancing: (10000, 3072) (10000,)\n",
      "LogisticRegression model initialized with input_dim=3072, lr=0.0005\n",
      "\n",
      "--- Starting Training for Logistic Regression ---\n",
      "Epoch 1/10 - Loss: 0.6955 - Acc: 0.5320\n",
      "Epoch 2/10 - Loss: 0.6971 - Acc: 0.6419\n",
      "Epoch 3/10 - Loss: 0.7011 - Acc: 0.6735\n",
      "Epoch 4/10 - Loss: 0.7063 - Acc: 0.6767\n",
      "Epoch 5/10 - Loss: 0.7116 - Acc: 0.6830\n",
      "Epoch 6/10 - Loss: 0.7175 - Acc: 0.6835\n",
      "Epoch 7/10 - Loss: 0.7232 - Acc: 0.6862\n",
      "Epoch 8/10 - Loss: 0.7281 - Acc: 0.6867\n",
      "Epoch 9/10 - Loss: 0.7339 - Acc: 0.6857\n",
      "Epoch 10/10 - Loss: 0.7380 - Acc: 0.6881\n",
      "--- Training Finished ---\n"
     ]
    }
   ],
   "execution_count": 7
  },
  {
   "metadata": {
    "ExecuteTime": {
     "end_time": "2025-05-30T15:58:56.255377Z",
     "start_time": "2025-05-30T15:58:39.815460Z"
    }
   },
   "cell_type": "code",
   "source": [
    "# Cell 7: Training + Threshold Tuning + Final Evaluation\n",
    "\n",
    "# 1) مجدداً فتن‌شان و ساخت train_loader (فرض می‌کنیم x_train, y_train فعلاً متعادل هستند)\n",
    "train_loader = SimpleLoader(x_train, y_train, batch_size=512, shuffle=True)\n",
    "\n",
    "# 2) آموزش مجدد مدل (یا اگر الان آموزش داده‌اید، این را رد کنید)\n",
    "model = LogisticRegression(input_dim=input_dim, lr=0.001)\n",
    "model.train(train_loader, epochs=50, print_freq=10)\n",
    "\n",
    "# 3) گرفتن احتمالات خروجی روی داده تست\n",
    "probs = model.predict_probabilities(x_test)  # شکل: (10000, 1)\n",
    "probs = probs.flatten()\n",
    "\n",
    "# 4) جستجوی آستانه‌ای که F1-score را بیشینه می‌کند\n",
    "best_thresh, best_f1 = 0.5, 0\n",
    "for thresh in np.linspace(0.1, 0.9, 17):\n",
    "    preds = (probs >= thresh).astype(int)\n",
    "    f1 = f1_score(y_test, preds)\n",
    "    if f1 > best_f1:\n",
    "        best_f1, best_thresh = f1, thresh\n",
    "\n",
    "print(f\"Best threshold: {best_thresh:.2f}, Best F1-score: {best_f1:.4f}\")\n",
    "\n",
    "# 5) ارزیابی نهایی با آن آستانه\n",
    "final_preds = (probs >= best_thresh).astype(int)\n",
    "cm = confusion_matrix(y_test, final_preds)\n",
    "\n",
    "print(\"\\n--- Final Evaluation on Test Set ---\")\n",
    "print(f\"Threshold = {best_thresh:.2f}\")\n",
    "print(f\"Test Accuracy: {np.mean(final_preds == y_test):.4f}\\n\")\n",
    "\n",
    "print(\"Confusion Matrix:\")\n",
    "print(\"              Pred Other   Pred Airplane\")\n",
    "print(f\"True Other      {cm[0,0]:<8}  {cm[0,1]:<8}\")\n",
    "print(f\"True Airplane   {cm[1,0]:<8}  {cm[1,1]:<8}\\n\")\n",
    "\n",
    "print(\"Classification Report:\")\n",
    "print(classification_report(y_test, final_preds, target_names=['Other','Airplane'], digits=4))\n"
   ],
   "id": "eb30b280a18398b5",
   "outputs": [
    {
     "name": "stdout",
     "output_type": "stream",
     "text": [
      "LogisticRegression model initialized with input_dim=3072, lr=0.001\n",
      "\n",
      "--- Starting Training for Logistic Regression ---\n",
      "Epoch 10/50 - Loss: 0.7652 - Acc: 0.6961\n",
      "Epoch 20/50 - Loss: 0.7878 - Acc: 0.7093\n",
      "Epoch 30/50 - Loss: 0.8027 - Acc: 0.7157\n",
      "Epoch 40/50 - Loss: 0.8134 - Acc: 0.7197\n",
      "Epoch 50/50 - Loss: 0.8225 - Acc: 0.7256\n",
      "--- Training Finished ---\n",
      "Best threshold: 0.75, Best F1-score: 0.4336\n",
      "\n",
      "--- Final Evaluation on Test Set ---\n",
      "Threshold = 0.75\n",
      "Test Accuracy: 0.8785\n",
      "\n",
      "Confusion Matrix:\n",
      "              Pred Other   Pred Airplane\n",
      "True Other      8320      680     \n",
      "True Airplane   535       465     \n",
      "\n",
      "Classification Report:\n",
      "              precision    recall  f1-score   support\n",
      "\n",
      "       Other     0.9396    0.9244    0.9320      9000\n",
      "    Airplane     0.4061    0.4650    0.4336      1000\n",
      "\n",
      "    accuracy                         0.8785     10000\n",
      "   macro avg     0.6728    0.6947    0.6828     10000\n",
      "weighted avg     0.8862    0.8785    0.8821     10000\n",
      "\n"
     ]
    }
   ],
   "execution_count": 8
  },
  {
   "metadata": {
    "ExecuteTime": {
     "end_time": "2025-05-30T15:58:56.527523Z",
     "start_time": "2025-05-30T15:58:56.271003Z"
    }
   },
   "cell_type": "code",
   "source": [
    "# Cell 7: Plotting Training Loss and Accuracy\n",
    "\n",
    "plt.figure(figsize=(12, 5))\n",
    "\n",
    "plt.subplot(1, 2, 1)\n",
    "plt.plot(model.history['train_loss'])\n",
    "plt.title('Training Loss per Epoch')\n",
    "plt.xlabel('Epoch')\n",
    "plt.ylabel('Loss')\n",
    "plt.grid(True)\n",
    "\n",
    "plt.subplot(1, 2, 2)\n",
    "plt.plot(model.history['train_acc'])\n",
    "plt.title('Training Accuracy per Epoch')\n",
    "plt.xlabel('Epoch')\n",
    "plt.ylabel('Accuracy')\n",
    "plt.grid(True)\n",
    "plt.show()\n",
    "\n",
    "print(\"Training Loss and Accuracy plots displayed.\")"
   ],
   "id": "e9f608b5b5c26b38",
   "outputs": [
    {
     "data": {
      "text/plain": [
       "<Figure size 1200x500 with 2 Axes>"
      ],
      "image/png": "[encoded data removed]"
     },
     "metadata": {},
     "output_type": "display_data"
    },
    {
     "name": "stdout",
     "output_type": "stream",
     "text": [
      "Training Loss and Accuracy plots displayed.\n"
     ]
    }
   ],
   "execution_count": 9
  },
  {
   "metadata": {
    "ExecuteTime": {
     "end_time": "2025-05-30T15:58:56.695223Z",
     "start_time": "2025-05-30T15:58:56.605751Z"
    }
   },
   "cell_type": "code",
   "source": [
    "# # Cell 8: Model Evaluation on Test Set\n",
    "# \n",
    "# print(\"\\n--- Evaluation on Test Set ---\")\n",
    "# y_pred_test = model.predict(x_test)\n",
    "# \n",
    "# # Overall Test Accuracy\n",
    "# test_acc = np.mean(y_pred_test == y_test)\n",
    "# print(f\"Test Accuracy: {test_acc:.4f}\")\n",
    "# \n",
    "# # Confusion Matrix with labels\n",
    "# cm = confusion_matrix(y_test, y_pred_test)\n",
    "# print(\"\\nConfusion Matrix:\")\n",
    "# print(\"True Labels \\\\ Predicted Labels\")\n",
    "# print(\"             Other   Airplane\")\n",
    "# print(f\"Other       {cm[0, 0]:<7} {cm[0, 1]:<8}\")\n",
    "# print(f\"Airplane    {cm[1, 0]:<7} {cm[1, 1]:<8}\")\n",
    "# \n",
    "# \n",
    "# # F1-Score\n",
    "# f1 = f1_score(y_test, y_pred_test)\n",
    "# print(f\"\\nF1-Score: {f1:.4f}\")\n",
    "# \n",
    "# # Classification Report\n",
    "# print(\"\\nClassification Report:\")\n",
    "# # target_names maps labels 0 and 1 to 'Other' and 'Airplane'\n",
    "# print(classification_report(y_test, y_pred_test, target_names=['Other', 'Airplane'], digits=4))"
   ],
   "id": "4f30bfb62cd9e0f7",
   "outputs": [
    {
     "name": "stdout",
     "output_type": "stream",
     "text": [
      "\n",
      "--- Evaluation on Test Set ---\n",
      "Test Accuracy: 0.6255\n",
      "\n",
      "Confusion Matrix:\n",
      "True Labels \\ Predicted Labels\n",
      "             Other   Airplane\n",
      "Other       5402    3598    \n",
      "Airplane    147     853     \n",
      "\n",
      "F1-Score: 0.3130\n",
      "\n",
      "Classification Report:\n",
      "              precision    recall  f1-score   support\n",
      "\n",
      "       Other     0.9735    0.6002    0.7426      9000\n",
      "    Airplane     0.1916    0.8530    0.3130      1000\n",
      "\n",
      "    accuracy                         0.6255     10000\n",
      "   macro avg     0.5826    0.7266    0.5278     10000\n",
      "weighted avg     0.8953    0.6255    0.6996     10000\n",
      "\n"
     ]
    }
   ],
   "execution_count": 10
  }
 ],
 "metadata": {
  "kernelspec": {
   "display_name": "Python 3",
   "language": "python",
   "name": "python3"
  },
  "language_info": {
   "codemirror_mode": {
    "name": "ipython",
    "version": 2
   },
   "file_extension": ".py",
   "mimetype": "text/x-python",
   "name": "python",
   "nbconvert_exporter": "python",
   "pygments_lexer": "ipython2",
   "version": "2.7.6"
  }
 },
 "nbformat": 4,
 "nbformat_minor": 5
}
