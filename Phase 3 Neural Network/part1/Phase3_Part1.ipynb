{
 "cells": [
  {
   "cell_type": "code",
   "id": "initial_id",
   "metadata": {
    "collapsed": true,
    "ExecuteTime": {
     "end_time": "2025-05-30T19:30:07.608719Z",
     "start_time": "2025-05-30T19:30:01.853540Z"
    }
   },
   "source": [
    "# Cell 1: Imports and Setup\n",
    "\n",
    "import numpy as np\n",
    "import matplotlib.pyplot as plt\n",
    "from sklearn.metrics import confusion_matrix, f1_score, classification_report\n",
    "from torchvision.datasets import CIFAR10 # For dataset loading\n",
    "import torchvision.transforms as T # Used only for download=True, manual transformation is done\n",
    "\n",
    "# Set a random seed for reproducibility\n",
    "np.random.seed(42)"
   ],
   "outputs": [],
   "execution_count": 1
  },
  {
   "metadata": {
    "ExecuteTime": {
     "end_time": "2025-05-30T19:30:07.655347Z",
     "start_time": "2025-05-30T19:30:07.624630Z"
    }
   },
   "cell_type": "code",
   "source": [
    "# Cell 2: Activation and Loss Functions\n",
    "\n",
    "def sigmoid(z):\n",
    "    return 1 / (1 + np.exp(-z))\n",
    "\n",
    "def binary_cross_entropy_loss(y_true, y_pred):\n",
    "    epsilon = 1e-10 # Clip predictions to avoid log(0)\n",
    "    y_pred = np.clip(y_pred, epsilon, 1 - epsilon)\n",
    "    return -np.mean(y_true * np.log(y_pred) + (1 - y_true) * np.log(1 - y_pred))"
   ],
   "id": "2895a07ad9e180a4",
   "outputs": [],
   "execution_count": 2
  },
  {
   "metadata": {
    "ExecuteTime": {
     "end_time": "2025-05-30T19:30:07.830735Z",
     "start_time": "2025-05-30T19:30:07.814752Z"
    }
   },
   "cell_type": "code",
   "source": [
    "# Cell 3: Logistic Regression Model Class\n",
    "\n",
    "class LogisticRegression:\n",
    "    def __init__(self, input_dim, lr=0.01):\n",
    "        \"\"\"\n",
    "        Initializes the Logistic Regression model.\n",
    "        \"\"\"\n",
    "        self.input_dim = input_dim\n",
    "        self.lr = lr\n",
    "        \n",
    "        # Initialize weights (W) with small random values and bias (b) with zeros\n",
    "        self.W = np.random.randn(input_dim, 1) * 0.01\n",
    "        self.b = np.zeros((1, 1))\n",
    "        \n",
    "        # History to store for plotting\n",
    "        self.history = {'train_loss': [], 'train_acc': []}\n",
    "        print(f\"LogisticRegression model initialized with input_dim={input_dim}, lr={lr}\")\n",
    "\n",
    "    def predict_probabilities(self, X):\n",
    "        \"\"\"\n",
    "        Calculates the output probabilities of the model.\n",
    "        \"\"\"\n",
    "        z = X @ self.W + self.b\n",
    "        a = sigmoid(z)\n",
    "        return a\n",
    "\n",
    "    def compute_gradients(self, X, y_true, y_pred):\n",
    "        \"\"\"\n",
    "        Computes the gradients for weights and bias.\n",
    "        \"\"\"\n",
    "        m = X.shape[0] # Number of samples in the current batch\n",
    "        \n",
    "        # Gradient of loss w.r.t Z (output of linear layer before sigmoid)\n",
    "        dz = y_pred - y_true.reshape(-1, 1)\n",
    "        \n",
    "        dW = (X.T @ dz) / m\n",
    "        db = np.sum(dz, axis=0, keepdims=True) / m\n",
    "        return dW, db\n",
    "\n",
    "    def update_params(self, dW, db):\n",
    "        \"\"\"\n",
    "        Updates model parameters (weights and bias) using calculated gradients.\n",
    "        \"\"\"\n",
    "        self.W -= self.lr * dW\n",
    "        self.b -= self.lr * db\n",
    "\n",
    "    def train(self, train_loader, epochs=100, print_freq=10):\n",
    "        \"\"\"\n",
    "        Trains the logistic regression model.\n",
    "        \"\"\"\n",
    "        print(f\"\\n--- Starting Training for Logistic Regression ---\")\n",
    "        for epoch in range(epochs):\n",
    "            all_batch_loss = []\n",
    "            all_batch_accuracy = []\n",
    "            \n",
    "            # Iterate over mini-batches\n",
    "            for x_batch, y_batch in train_loader:\n",
    "                y_batch = y_batch.reshape(-1) \n",
    "                # Calculate output probabilities\n",
    "                y_pred = self.predict_probabilities(x_batch)\n",
    "                \n",
    "                # Calculate loss\n",
    "                loss = binary_cross_entropy_loss(y_batch, y_pred)\n",
    "                \n",
    "                # Calculate gradients\n",
    "                dW, db = self.compute_gradients(x_batch, y_batch, y_pred)\n",
    "                \n",
    "                # Update parameters\n",
    "                self.update_params(dW, db)\n",
    "                \n",
    "                # Calculate accuracy for the current batch\n",
    "                predictions = (y_pred >= 0.5).astype(int).flatten()\n",
    "                accuracy = np.mean(predictions == y_batch)\n",
    "                \n",
    "                all_batch_loss.append(loss)\n",
    "                all_batch_accuracy.append(accuracy)\n",
    "\n",
    "            # Average loss and accuracy for the epoch\n",
    "            avg_epoch_loss = np.mean(all_batch_loss)\n",
    "            avg_epoch_accuracy = np.mean(all_batch_accuracy)\n",
    "            \n",
    "            self.history['train_loss'].append(avg_epoch_loss)\n",
    "            self.history['train_acc'].append(avg_epoch_accuracy)\n",
    "\n",
    "            if (epoch + 1) % print_freq == 0:\n",
    "                print(f\"Epoch {epoch+1}/{epochs} - Loss: {avg_epoch_loss:.4f} - Acc: {avg_epoch_accuracy:.4f}\")\n",
    "        print(f\"--- Training Finished ---\")\n",
    "\n",
    "    def predict(self, X):\n",
    "        \"\"\"\n",
    "        Makes binary predictions based on the learned model.\n",
    "        \"\"\"\n",
    "        return (self.predict_probabilities(X) >= 0.5).astype(int).flatten()"
   ],
   "id": "bea6ce9b84b26e33",
   "outputs": [],
   "execution_count": 3
  },
  {
   "metadata": {
    "ExecuteTime": {
     "end_time": "2025-05-30T19:30:07.908872Z",
     "start_time": "2025-05-30T19:30:07.893247Z"
    }
   },
   "cell_type": "code",
   "source": [
    "# Cell 4: Data Loading and Preprocessing\n",
    "\n",
    "def load_and_prepare_cifar10(positive_class=0, data_dir='./data'):\n",
    "    \"\"\"\n",
    "    Loads CIFAR-10 data, normalizes, relabels for binary classification, and flattens images.\n",
    "    \"\"\"\n",
    "    # T.ToTensor() is primarily for PyTorch tensors; we're extracting raw data and handling normalization manually.\n",
    "    transform = T.ToTensor() \n",
    "\n",
    "    train_set = CIFAR10(root=data_dir, train=True, download=True, transform=transform)\n",
    "    test_set = CIFAR10(root=data_dir, train=False, download=True, transform=transform)\n",
    "\n",
    "    # Convert to NumPy arrays and normalize pixel values to [0, 1]\n",
    "    x_train = train_set.data.astype(np.float32) / 255.0\n",
    "    y_train = np.array(train_set.targets).flatten()\n",
    "    # Relabeling: positive_class=1, others=0\n",
    "    y_train_bin = (y_train == positive_class).astype(int) \n",
    "\n",
    "    x_test = test_set.data.astype(np.float32) / 255.0\n",
    "    y_test = np.array(test_set.targets).flatten()\n",
    "    # Relabeling: positive_class=1, others=0\n",
    "    y_test_bin = (y_test == positive_class).astype(int) \n",
    "    ###############3\n",
    "    \n",
    "    mean_image = x_train.mean(axis=0, keepdims=True)    # shape: (1,32,32,3)\n",
    "    x_train -= mean_image\n",
    "    x_test  -= mean_image\n",
    "    \n",
    "    ####################\n",
    "    \n",
    "    \n",
    "    # Flatten images from (N, H, W, C) to (N, H*W*C)\n",
    "    x_train_flat = x_train.reshape(x_train.shape[0], -1) # (50000, 32*32*3) = (50000, 3072)\n",
    "    x_test_flat = x_test.reshape(x_test.shape[0], -1)   # (10000, 32*32*3) = (10000, 3072)\n",
    "\n",
    "    return x_train_flat, y_train_bin, x_test_flat, y_test_bin"
   ],
   "id": "e382d51152d08b2",
   "outputs": [],
   "execution_count": 4
  },
  {
   "metadata": {
    "ExecuteTime": {
     "end_time": "2025-05-30T19:30:07.924497Z",
     "start_time": "2025-05-30T19:30:07.908872Z"
    }
   },
   "cell_type": "code",
   "source": [
    "# Cell 5: Simple DataLoader for Mini-Batching\n",
    "\n",
    "class SimpleLoader:\n",
    "    def __init__(self, X, y, batch_size=128, shuffle=True):\n",
    "        \"\"\"\n",
    "        A simple DataLoader for batching and shuffling data using NumPy arrays.\n",
    "        Args:\n",
    "            X (np.array): Features data.\n",
    "            y (np.array): Labels data.\n",
    "            batch_size (int): Size of each mini-batch.\n",
    "            shuffle (bool): Whether to shuffle data at the beginning of each epoch.\n",
    "        \"\"\"\n",
    "        self.X = X\n",
    "        self.y = y\n",
    "        self.batch_size = batch_size\n",
    "        self.shuffle = shuffle\n",
    "        self.num_samples = len(X)\n",
    "\n",
    "    def __iter__(self):\n",
    "        \"\"\"\n",
    "        Returns an iterator for mini-batches.\n",
    "        \"\"\"\n",
    "        indices = np.arange(self.num_samples)\n",
    "        if self.shuffle:\n",
    "            np.random.shuffle(indices) # Shuffle indices for each epoch\n",
    "\n",
    "        for start_idx in range(0, self.num_samples, self.batch_size):\n",
    "            end_idx = min(start_idx + self.batch_size, self.num_samples)\n",
    "            batch_idx = indices[start_idx:end_idx]\n",
    "            \n",
    "            # Directly yield NumPy arrays\n",
    "            yield self.X[batch_idx], self.y[batch_idx]"
   ],
   "id": "ccfe971d721ec1e5",
   "outputs": [],
   "execution_count": 5
  },
  {
   "metadata": {
    "ExecuteTime": {
     "end_time": "2025-05-30T19:36:02.598583Z",
     "start_time": "2025-05-30T19:30:08.002982Z"
    }
   },
   "cell_type": "code",
   "source": [
    "# Cell 6: Training + Threshold Tuning + Final Evaluation\n",
    "\n",
    "x_train, y_train, x_test, y_test = load_and_prepare_cifar10(positive_class=0, data_dir='./data')\n",
    "\n",
    "train_loader = SimpleLoader(x_train, y_train, batch_size=512, shuffle=True)\n",
    "\n",
    "input_dim = x_train.shape[1]\n",
    "model = LogisticRegression(input_dim=input_dim, lr=0.0001)\n",
    "\n",
    "model.train(train_loader, epochs=200, print_freq=10)\n",
    "\n",
    "\n",
    "probs = model.predict_probabilities(x_test)  # شکل: (10000, 1)\n",
    "probs = probs.flatten()\n",
    "\n",
    "#Search Threshold\n",
    "best_thresh, best_f1 = 0.5, 0\n",
    "for thresh in np.linspace(0.1, 0.9, 17):\n",
    "    preds = (probs >= thresh).astype(int)\n",
    "    f1 = f1_score(y_test, preds)\n",
    "    if f1 > best_f1:\n",
    "        best_f1, best_thresh = f1, thresh\n",
    "\n",
    "print(f\"Best threshold: {best_thresh:.2f}, Best F1-score: {best_f1:.4f}\")\n",
    "\n",
    "\n",
    "final_preds = (probs >= best_thresh).astype(int)\n",
    "cm = confusion_matrix(y_test, final_preds)\n",
    "\n",
    "print(\"\\n--- Final Evaluation on Test Set ---\")\n",
    "print(f\"Threshold = {best_thresh:.2f}\")\n",
    "print(f\"Test Accuracy: {np.mean(final_preds == y_test):.4f}\\n\")\n",
    "\n",
    "print(\"Confusion Matrix:\")\n",
    "print(\"              Pred Other   Pred Airplane\")\n",
    "print(f\"True Other      {cm[0,0]:<8}  {cm[0,1]:<8}\")\n",
    "print(f\"True Airplane   {cm[1,0]:<8}  {cm[1,1]:<8}\\n\")\n",
    "\n",
    "print(\"Classification Report:\")\n",
    "print(classification_report(y_test, final_preds, target_names=['Other','Airplane'], digits=4))\n"
   ],
   "id": "eb30b280a18398b5",
   "outputs": [
    {
     "name": "stdout",
     "output_type": "stream",
     "text": [
      "LogisticRegression model initialized with input_dim=3072, lr=0.0001\n",
      "\n",
      "--- Starting Training for Logistic Regression ---\n",
      "Epoch 10/200 - Loss: 0.6868 - Acc: 0.6324\n",
      "Epoch 20/200 - Loss: 0.6755 - Acc: 0.6751\n",
      "Epoch 30/200 - Loss: 0.6633 - Acc: 0.7077\n",
      "Epoch 40/200 - Loss: 0.6513 - Acc: 0.7333\n",
      "Epoch 50/200 - Loss: 0.6397 - Acc: 0.7563\n",
      "Epoch 60/200 - Loss: 0.6287 - Acc: 0.7765\n",
      "Epoch 70/200 - Loss: 0.6182 - Acc: 0.7932\n",
      "Epoch 80/200 - Loss: 0.6082 - Acc: 0.8084\n",
      "Epoch 90/200 - Loss: 0.5985 - Acc: 0.8205\n",
      "Epoch 100/200 - Loss: 0.5894 - Acc: 0.8307\n",
      "Epoch 110/200 - Loss: 0.5803 - Acc: 0.8406\n",
      "Epoch 120/200 - Loss: 0.5720 - Acc: 0.8499\n",
      "Epoch 130/200 - Loss: 0.5639 - Acc: 0.8569\n",
      "Epoch 140/200 - Loss: 0.5562 - Acc: 0.8635\n",
      "Epoch 150/200 - Loss: 0.5486 - Acc: 0.8684\n",
      "Epoch 160/200 - Loss: 0.5415 - Acc: 0.8732\n",
      "Epoch 170/200 - Loss: 0.5345 - Acc: 0.8775\n",
      "Epoch 180/200 - Loss: 0.5282 - Acc: 0.8815\n",
      "Epoch 190/200 - Loss: 0.5218 - Acc: 0.8852\n",
      "Epoch 200/200 - Loss: 0.5158 - Acc: 0.8881\n",
      "--- Training Finished ---\n",
      "Best threshold: 0.50, Best F1-score: 0.4460\n",
      "\n",
      "--- Final Evaluation on Test Set ---\n",
      "Threshold = 0.50\n",
      "Test Accuracy: 0.8872\n",
      "\n",
      "Confusion Matrix:\n",
      "              Pred Other   Pred Airplane\n",
      "True Other      8418      582     \n",
      "True Airplane   546       454     \n",
      "\n",
      "Classification Report:\n",
      "              precision    recall  f1-score   support\n",
      "\n",
      "       Other     0.9391    0.9353    0.9372      9000\n",
      "    Airplane     0.4382    0.4540    0.4460      1000\n",
      "\n",
      "    accuracy                         0.8872     10000\n",
      "   macro avg     0.6887    0.6947    0.6916     10000\n",
      "weighted avg     0.8890    0.8872    0.8881     10000\n",
      "\n"
     ]
    }
   ],
   "execution_count": 8
  },
  {
   "metadata": {
    "ExecuteTime": {
     "end_time": "2025-05-30T19:36:03.306249Z",
     "start_time": "2025-05-30T19:36:02.739410Z"
    }
   },
   "cell_type": "code",
   "source": [
    "# Cell 7: Plotting Training Loss and Accuracy\n",
    "\n",
    "plt.figure(figsize=(12, 5))\n",
    "\n",
    "plt.subplot(1, 2, 1)\n",
    "plt.plot(model.history['train_loss'])\n",
    "plt.title('Training Loss per Epoch')\n",
    "plt.xlabel('Epoch')\n",
    "plt.ylabel('Loss')\n",
    "plt.grid(True)\n",
    "\n",
    "plt.subplot(1, 2, 2)\n",
    "plt.plot(model.history['train_acc'])\n",
    "plt.title('Training Accuracy per Epoch')\n",
    "plt.xlabel('Epoch')\n",
    "plt.ylabel('Accuracy')\n",
    "plt.grid(True)\n",
    "plt.show()\n",
    "\n",
    "print(\"Training Loss and Accuracy plots displayed.\")"
   ],
   "id": "e9f608b5b5c26b38",
   "outputs": [
    {
     "data": {
      "text/plain": [
       "<Figure size 1200x500 with 2 Axes>"
      ],
      "image/png": "[encoded data removed]"
     },
     "metadata": {},
     "output_type": "display_data"
    },
    {
     "name": "stdout",
     "output_type": "stream",
     "text": [
      "Training Loss and Accuracy plots displayed.\n"
     ]
    }
   ],
   "execution_count": 9
  }
 ],
 "metadata": {
  "kernelspec": {
   "display_name": "Python 3",
   "language": "python",
   "name": "python3"
  },
  "language_info": {
   "codemirror_mode": {
    "name": "ipython",
    "version": 2
   },
   "file_extension": ".py",
   "mimetype": "text/x-python",
   "name": "python",
   "nbconvert_exporter": "python",
   "pygments_lexer": "ipython2",
   "version": "2.7.6"
  }
 },
 "nbformat": 4,
 "nbformat_minor": 5
}
